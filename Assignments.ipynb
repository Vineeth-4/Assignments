{
  "nbformat": 4,
  "nbformat_minor": 0,
  "metadata": {
    "colab": {
      "provenance": []
    },
    "kernelspec": {
      "name": "python3",
      "display_name": "Python 3"
    },
    "language_info": {
      "name": "python"
    }
  },
  "cells": [
    {
      "cell_type": "markdown",
      "source": [
        "DAY-1"
      ],
      "metadata": {
        "id": "IQ_EULYOvOnA"
      }
    },
    {
      "cell_type": "code",
      "execution_count": null,
      "metadata": {
        "colab": {
          "base_uri": "https://localhost:8080/"
        },
        "id": "RNpc80v_u4by",
        "outputId": "b8b2f3a2-e736-4d0b-82b7-67f415fde2cd"
      },
      "outputs": [
        {
          "output_type": "stream",
          "name": "stdout",
          "text": [
            "Value: 42\n",
            "Type: <class 'int'>\n",
            "Value: 3.14\n",
            "Type: <class 'float'>\n",
            "Value: Hello, World!\n",
            "Type: <class 'str'>\n",
            "Value: True\n",
            "Type: <class 'bool'>\n"
          ]
        }
      ],
      "source": [
        "integer_var = 42\n",
        "float_var = 3.14\n",
        "string_var = \"Hello, World!\"\n",
        "boolean_var = True\n",
        "print(\"Value:\", integer_var)\n",
        "print(\"Type:\", type(integer_var))\n",
        "print(\"Value:\", float_var)\n",
        "print(\"Type:\", type(float_var))\n",
        "print(\"Value:\", string_var)\n",
        "print(\"Type:\", type(string_var))\n",
        "print(\"Value:\", boolean_var)\n",
        "print(\"Type:\", type(boolean_var))"
      ]
    },
    {
      "cell_type": "markdown",
      "source": [
        "DAY-2\n"
      ],
      "metadata": {
        "id": "sL30lcyjvR7n"
      }
    },
    {
      "cell_type": "code",
      "source": [
        "a = [1, 2, 3, 4, 5]\n",
        "b= ('a', 'b', 'c', 'd', 'e')\n",
        "c= {'name': 'John', 'age': 30, 'city': 'London', 'job': 'Developer', 'hobby': 'Reading'}\n",
        "print(a[0])\n",
        "print(a[-1])\n",
        "print(b[1])\n",
        "print(b[3])\n",
        "print(b[-2])\n",
        "print(c['name'])\n",
        "print(c['city'])\n",
        "print(c.get('hobby'))\n"
      ],
      "metadata": {
        "colab": {
          "base_uri": "https://localhost:8080/"
        },
        "id": "Po7c-tEsvUen",
        "outputId": "7f951119-721d-4c50-bf74-5d2f4183eae0"
      },
      "execution_count": null,
      "outputs": [
        {
          "output_type": "stream",
          "name": "stdout",
          "text": [
            "1\n",
            "5\n",
            "b\n",
            "d\n",
            "d\n",
            "John\n",
            "London\n",
            "Reading\n"
          ]
        }
      ]
    },
    {
      "cell_type": "markdown",
      "source": [
        "DAY-3"
      ],
      "metadata": {
        "id": "g2QlhPGjv9AA"
      }
    },
    {
      "cell_type": "code",
      "source": [
        "marks1 = float(input(\"Enter marks for Subject 1: \"))\n",
        "marks2 = float(input(\"Enter marks for Subject 2: \"))\n",
        "marks3 = float(input(\"Enter marks for Subject 3: \"))\n",
        "average = (marks1 + marks2 + marks3) / 3\n",
        "if average >= 90:\n",
        "    print(\"Grade: A\")\n",
        "elif 80 <= average < 90:\n",
        "    print(\"Grade: B\")\n",
        "elif 70 <= average < 80:\n",
        "    print(\"Grade: C\")\n",
        "else:\n",
        "    print(\"Grade: Fail\")\n"
      ],
      "metadata": {
        "colab": {
          "base_uri": "https://localhost:8080/"
        },
        "id": "a3NM2Tzxv-U8",
        "outputId": "2b83dfca-876a-4837-842a-5351db12350a"
      },
      "execution_count": null,
      "outputs": [
        {
          "output_type": "stream",
          "name": "stdout",
          "text": [
            "Enter marks for Subject 1: 92\n",
            "Enter marks for Subject 2: 93\n",
            "Enter marks for Subject 3: 94\n",
            "Grade: A\n"
          ]
        }
      ]
    },
    {
      "cell_type": "markdown",
      "source": [
        "DAY-4"
      ],
      "metadata": {
        "id": "LQOWx3nBwGiM"
      }
    },
    {
      "cell_type": "code",
      "source": [
        "from collections import Counter\n",
        "def calculate_word_frequency(text):\n",
        "    words = text.lower().split()\n",
        "    word_counts = Counter(words)\n",
        "    return word_counts\n",
        "text = input(\"Enter a text: \")\n",
        "word_frequencies = calculate_word_frequency(text)\n",
        "print(\"\\nWord frequencies:\")\n",
        "for word, count in word_frequencies.items():\n",
        "    print(f\"{word}: {count}\")\n"
      ],
      "metadata": {
        "colab": {
          "base_uri": "https://localhost:8080/"
        },
        "id": "mujj9tLzwJhk",
        "outputId": "20b06d40-1c83-4528-df85-cb92815abe9d"
      },
      "execution_count": null,
      "outputs": [
        {
          "output_type": "stream",
          "name": "stdout",
          "text": [
            "Enter a text: helo\n",
            "\n",
            "Word frequencies:\n",
            "helo: 1\n"
          ]
        }
      ]
    },
    {
      "cell_type": "markdown",
      "source": [
        "DAY-7"
      ],
      "metadata": {
        "id": "5RkW8qU6wqyy"
      }
    },
    {
      "cell_type": "code",
      "source": [
        "import nltk\n",
        "from nltk.corpus import stopwords\n",
        "import spacy\n",
        "nltk_stopwords = set(stopwords.words('english'))\n",
        "nlp = spacy.load(\"en_core_web_sm\")\n",
        "def process_text(text):\n",
        "    text_lower = text.lower()\n",
        "    doc = nlp(text_lower)\n",
        "    filtered_tokens = [token.text for token in doc if token.text not in nltk_stopwords and not token.is_punct]\n",
        "    return filtered_tokens\n",
        "text = input(\"Enter a text: \")\n",
        "processed_text = process_text(text)\n",
        "print(\"Processed text (without stopwords):\",processed_text)\n"
      ],
      "metadata": {
        "colab": {
          "base_uri": "https://localhost:8080/"
        },
        "id": "sIHwajuhwsTT",
        "outputId": "05c75df6-67da-4091-e6f8-3a84808f7f16"
      },
      "execution_count": null,
      "outputs": [
        {
          "output_type": "stream",
          "name": "stdout",
          "text": [
            "Enter a text: Hello world\n",
            "Processed text (without stopwords): ['hello', 'world']\n"
          ]
        }
      ]
    },
    {
      "cell_type": "markdown",
      "source": [
        "DAY-9"
      ],
      "metadata": {
        "id": "4iqunlOmxPz5"
      }
    },
    {
      "cell_type": "code",
      "source": [
        "import gensim\n",
        "from gensim.utils import simple_preprocess\n",
        "from nltk.stem import PorterStemmer\n",
        "from nltk.corpus import stopwords\n",
        "import spacy\n",
        "import nltk\n",
        "nlp = spacy.load(\"en_core_web_sm\")\n",
        "stemmer = PorterStemmer()\n",
        "stop_words = set(stopwords.words(\"english\"))\n",
        "def preprocess_text(text):\n",
        "    tokens = simple_preprocess(text, deacc=True)\n",
        "    tokens = [word for word in tokens if word not in stop_words]\n",
        "    stemmed_tokens = [stemmer.stem(word) for word in tokens]\n",
        "    lemmatized_tokens = []\n",
        "    doc = nlp(\" \".join(stemmed_tokens))\n",
        "    for token in doc:\n",
        "        if not token.is_stop and not token.is_punct:\n",
        "            lemmatized_tokens.append(token.lemma_)\n",
        "    return lemmatized_tokens\n",
        "\n",
        "file_path = \"sample.txt\"\n",
        "with open(file_path, \"r\", encoding=\"utf-8\") as file:\n",
        "    text_data = file.read()\n",
        "processed_tokens = preprocess_text(text_data)\n",
        "print(\"Processed Tokens:\",processed_tokens)\n"
      ],
      "metadata": {
        "id": "XCSUC914xIUs"
      },
      "execution_count": null,
      "outputs": []
    },
    {
      "cell_type": "markdown",
      "source": [
        "DAY-11"
      ],
      "metadata": {
        "id": "DwwXdC9Hx1iW"
      }
    },
    {
      "cell_type": "code",
      "source": [
        "import nltk\n",
        "paragraph = \"\"\"\n",
        "Natural Language Processing (NLP) is a fascinating field of Artificial Intelligence.\n",
        "It helps machines understand, interpret, and respond to human language effectively.\n",
        "\"\"\"\n",
        "sentences = nltk.sent_tokenize(paragraph)\n",
        "words = nltk.word_tokenize(paragraph)\n",
        "print(\"Tokenized Sentences:\")\n",
        "for i, sentence in enumerate(sentences, 1):\n",
        "    print(f\"{i}: {sentence}\")\n",
        "print(\"Tokenized Words:\")\n",
        "print(words)\n"
      ],
      "metadata": {
        "id": "8BuW-hQrxrh7"
      },
      "execution_count": null,
      "outputs": []
    },
    {
      "cell_type": "markdown",
      "source": [
        "DAY-13"
      ],
      "metadata": {
        "id": "0JJARz0uyEAH"
      }
    },
    {
      "cell_type": "code",
      "source": [
        "import re\n",
        "def clean_text(text):\n",
        "    cleaned_text = re.sub(r'[^a-zA-Z0-9\\s]', '', text)\n",
        "    return cleaned_text.lower()\n",
        "input_text = 'Hello, World! Welcome to NLP 101.'\n",
        "result = clean_text(input_text)\n",
        "print(result)\n"
      ],
      "metadata": {
        "id": "uh8cd7psyFKH"
      },
      "execution_count": null,
      "outputs": []
    },
    {
      "cell_type": "markdown",
      "source": [
        "DAY-15"
      ],
      "metadata": {
        "id": "gitJqugIyPm1"
      }
    },
    {
      "cell_type": "code",
      "source": [
        "import re\n",
        "\n",
        "def extract_emails(text):\n",
        "    email_pattern = r'[a-zA-Z0-9._%+-]+@[a-zA-Z0-9.-]+\\.[a-zA-Z]{2,}'\n",
        "    return re.findall(email_pattern, text)\n",
        "input_text = 'Contact us at support@example.com and sales@example.org.'\n",
        "emails = extract_emails(input_text)\n",
        "print(emails)\n"
      ],
      "metadata": {
        "id": "VWjaFmZ3yUId"
      },
      "execution_count": null,
      "outputs": []
    },
    {
      "cell_type": "markdown",
      "source": [
        "DAY-18"
      ],
      "metadata": {
        "id": "cEQpfALpyYT8"
      }
    },
    {
      "cell_type": "code",
      "source": [
        "import requests\n",
        "from bs4 import BeautifulSoup\n",
        "def fetch_title(url):\n",
        "    response = requests.get(url)\n",
        "    soup = BeautifulSoup(response.content, 'html.parser')\n",
        "    title = soup.title.string if soup.title else \"No title found\"\n",
        "    return title\n",
        "url = 'https://onlinelearning.excelr.com/'\n",
        "title = fetch_title(url)\n",
        "print(f\"Title of the webpage: {title}\")\n"
      ],
      "metadata": {
        "colab": {
          "base_uri": "https://localhost:8080/"
        },
        "id": "mcNbIwVRyZbk",
        "outputId": "378728ec-9e4f-4825-ae16-ace5e73b0808"
      },
      "execution_count": null,
      "outputs": [
        {
          "output_type": "stream",
          "name": "stdout",
          "text": [
            "Title of the webpage: ExcelR | E-learning Platform\n"
          ]
        }
      ]
    },
    {
      "cell_type": "markdown",
      "source": [
        "DAY-20"
      ],
      "metadata": {
        "id": "AVpctFPey89a"
      }
    },
    {
      "cell_type": "code",
      "source": [
        "from wordcloud import WordCloud\n",
        "import matplotlib.pyplot as plt\n",
        "\n",
        "def generate_wordcloud(text):\n",
        "    wordcloud = WordCloud(width=800, height=400, background_color='white').generate(text)\n",
        "    plt.figure(figsize=(10, 5))\n",
        "    plt.imshow(wordcloud, interpolation='bilinear')\n",
        "    plt.axis('off')\n",
        "    wordcloud.to_file('wordcloud.png')\n",
        "    print(\"WordCloud image saved as 'wordcloud.png'.\")\n",
        "text = 'data science machine learning artificial intelligence'\n",
        "generate_wordcloud(text)\n"
      ],
      "metadata": {
        "colab": {
          "base_uri": "https://localhost:8080/",
          "height": 439
        },
        "id": "Xgv32JOZy-lp",
        "outputId": "300e9e2a-2c57-4b54-8094-97d38dea746e"
      },
      "execution_count": null,
      "outputs": [
        {
          "output_type": "stream",
          "name": "stdout",
          "text": [
            "WordCloud image saved as 'wordcloud.png'.\n"
          ]
        },
        {
          "output_type": "display_data",
          "data": {
            "text/plain": [
              "<Figure size 1000x500 with 1 Axes>"
            ],
            "image/png": "[encoded data removed]"
          },
          "metadata": {}
        }
      ]
    },
    {
      "cell_type": "markdown",
      "source": [
        "DAY-22"
      ],
      "metadata": {
        "id": "3Dfn0RX_zEfK"
      }
    },
    {
      "cell_type": "code",
      "source": [
        "import spacy\n",
        "nlp = spacy.load(\"en_core_web_sm\")\n",
        "sentence = \"NLP is amazing and fun to learn.\"\n",
        "doc = nlp(sentence)\n",
        "for token in doc:\n",
        "    print(f\"{token.text}: {token.pos_}\")\n"
      ],
      "metadata": {
        "colab": {
          "base_uri": "https://localhost:8080/"
        },
        "id": "s5-MymTxzB0J",
        "outputId": "47398108-872e-4511-db9e-67a4e8ca6200"
      },
      "execution_count": null,
      "outputs": [
        {
          "output_type": "stream",
          "name": "stdout",
          "text": [
            "NLP: PROPN\n",
            "is: AUX\n",
            "amazing: ADJ\n",
            "and: CCONJ\n",
            "fun: ADJ\n",
            "to: PART\n",
            "learn: VERB\n",
            ".: PUNCT\n"
          ]
        }
      ]
    },
    {
      "cell_type": "markdown",
      "source": [
        "DAY-24"
      ],
      "metadata": {
        "id": "KMpiCIrHzYJy"
      }
    },
    {
      "cell_type": "code",
      "source": [
        "import nltk\n",
        "from nltk.corpus import stopwords\n",
        "from nltk.probability import FreqDist\n",
        "from nltk.tokenize import word_tokenize\n",
        "def get_most_common_words(file_path):\n",
        "    with open(file_path, 'r', encoding='utf-8') as file:\n",
        "        text = file.read()\n",
        "    words = word_tokenize(text)\n",
        "    stop_words = set(stopwords.words('english'))\n",
        "    words = [word.lower() for word in words if word.isalnum() and word.lower() not in stop_words]\n",
        "    fdist = FreqDist(words)\n",
        "    return fdist.most_common(10)\n",
        "file_path = 'sample.txt'\n",
        "most_common_words = get_most_common_words(file_path)\n",
        "print(\"The 10 most common words are:\")\n",
        "for word, frequency in most_common_words:\n",
        "    print(f\"{word}: {frequency}\")\n"
      ],
      "metadata": {
        "id": "c_8OQS9Bzhnn"
      },
      "execution_count": null,
      "outputs": []
    },
    {
      "cell_type": "markdown",
      "source": [
        "DAY-26"
      ],
      "metadata": {
        "id": "mQTqTdS8zqlo"
      }
    },
    {
      "cell_type": "code",
      "source": [
        "from sklearn.feature_extraction.text import TfidfVectorizer\n",
        "from sklearn.metrics.pairwise import cosine_similarity\n",
        "\n",
        "def calculate_cosine_similarity(text1, text2):\n",
        "    vectorizer = TfidfVectorizer()\n",
        "    tfidf_matrix = vectorizer.fit_transform([text1, text2])\n",
        "    similarity = cosine_similarity(tfidf_matrix[0], tfidf_matrix[1])\n",
        "    return similarity[0][0]\n",
        "text1 = \"Data science is an inter-disciplinary field.\"\n",
        "text2 = \"Data science involves the use of scientific methods.\"\n",
        "similarity_score = calculate_cosine_similarity(text1, text2)\n",
        "print(f\"Cosine similarity: {similarity_score}\")\n"
      ],
      "metadata": {
        "colab": {
          "base_uri": "https://localhost:8080/"
        },
        "id": "FU9umGhhzryP",
        "outputId": "aee6cc41-a410-45ad-c209-88c621f508e0"
      },
      "execution_count": null,
      "outputs": [
        {
          "output_type": "stream",
          "name": "stdout",
          "text": [
            "Cosine similarity: 0.15592892548708362\n"
          ]
        }
      ]
    },
    {
      "cell_type": "markdown",
      "source": [
        "DAY-28"
      ],
      "metadata": {
        "id": "meJ4gUH1z6r2"
      }
    },
    {
      "cell_type": "code",
      "source": [
        "import spacy\n",
        "nlp = spacy.load(\"en_core_web_sm\")\n",
        "def perform_ner(text):\n",
        "    doc = nlp(text)\n",
        "    for ent in doc.ents:\n",
        "        print(f\"Entity: {ent.text}, Type: {ent.label_}\")\n",
        "text = \"Apple is looking to buy a startup in the UK for $1 billion. Tim Cook is the CEO of Apple.\"\n",
        "perform_ner(text)\n"
      ],
      "metadata": {
        "colab": {
          "base_uri": "https://localhost:8080/"
        },
        "id": "sF9aGHrez7n2",
        "outputId": "2007dd3e-8280-471c-de51-aa6ffec2b856"
      },
      "execution_count": null,
      "outputs": [
        {
          "output_type": "stream",
          "name": "stdout",
          "text": [
            "Entity: Apple, Type: ORG\n",
            "Entity: UK, Type: GPE\n",
            "Entity: $1 billion, Type: MONEY\n",
            "Entity: Tim Cook, Type: PERSON\n",
            "Entity: Apple, Type: ORG\n"
          ]
        }
      ]
    },
    {
      "cell_type": "markdown",
      "source": [
        "DAY-30"
      ],
      "metadata": {
        "id": "6GTAoVmg0Cv_"
      }
    },
    {
      "cell_type": "code",
      "source": [
        "from textblob import TextBlob\n",
        "\n",
        "def analyze_sentiment(text):\n",
        "    blob = TextBlob(text)\n",
        "    polarity = blob.sentiment.polarity\n",
        "    if polarity > 0:\n",
        "        return \"Positive\"\n",
        "    elif polarity < 0:\n",
        "        return \"Negative\"\n",
        "    else:\n",
        "        return \"Neutral\"\n",
        "text = \"I love this product, it's amazing!\"\n",
        "sentiment = analyze_sentiment(text)\n",
        "print(f\"Sentiment: {sentiment}\")\n"
      ],
      "metadata": {
        "colab": {
          "base_uri": "https://localhost:8080/"
        },
        "id": "pUmGlrws0EVH",
        "outputId": "f9f30396-f441-4ab3-852b-815a34581982"
      },
      "execution_count": null,
      "outputs": [
        {
          "output_type": "stream",
          "name": "stdout",
          "text": [
            "Sentiment: Positive\n"
          ]
        }
      ]
    },
    {
      "cell_type": "markdown",
      "source": [
        "DAY-32"
      ],
      "metadata": {
        "id": "pbhHgHs40Vc9"
      }
    },
    {
      "cell_type": "code",
      "source": [
        "import nltk\n",
        "from collections import Counter\n",
        "from nltk.tokenize import word_tokenize\n",
        "def calculate_tf(file_path):\n",
        "    with open(file_path, 'r', encoding='utf-8') as file:\n",
        "        text = file.read()\n",
        "    tokens = word_tokenize(text)\n",
        "    tokens = [word.lower() for word in tokens if word.isalnum()]\n",
        "    token_counts = Counter(tokens)\n",
        "    most_common_tokens = token_counts.most_common(5)\n",
        "    return most_common_tokens\n",
        "file_path = 'sample.txt'\n",
        "top_tokens = calculate_tf(file_path)\n",
        "\n",
        "print(\"Top 5 most frequent tokens:\")\n",
        "for token, frequency in top_tokens:\n",
        "    print(f\"{token}: {frequency}\")\n"
      ],
      "metadata": {
        "id": "BUMnUerY0XLv"
      },
      "execution_count": null,
      "outputs": []
    }
  ]
}